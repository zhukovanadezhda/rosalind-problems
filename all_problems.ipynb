{
 "cells": [
  {
   "cell_type": "markdown",
   "id": "b3addcb0-1c4d-43e4-8e1d-28a851c041d1",
   "metadata": {},
   "source": [
    "# FIB: Rabbits and Recurrence Relations"
   ]
  },
  {
   "cell_type": "markdown",
   "id": "23bf8e09-ef16-453e-af12-94cc4b457fc6",
   "metadata": {},
   "source": [
    "https://rosalind.info/problems/fib/"
   ]
  },
  {
   "cell_type": "markdown",
   "id": "7fd9e7ae-199a-415d-849d-8ccc4dd13de4",
   "metadata": {
    "jp-MarkdownHeadingCollapsed": true,
    "tags": []
   },
   "source": [
    "#### Given: \n",
    "Positive integers n ≤ 40 and k ≤ 5 \n",
    "#### Return: \n",
    "The total number of rabbit pairs that will be present after n months, if we begin with 1 pair and in each generation, every pair of reproduction-age rabbits produces a litter of k rabbit pairs (instead of only 1 pair)"
   ]
  },
  {
   "cell_type": "code",
   "execution_count": 261,
   "id": "19408596-ff4d-496d-8138-f014c257b830",
   "metadata": {},
   "outputs": [],
   "source": [
    "def return_rabbits(n, k):\n",
    "    nb_rabbits = ['' for i in range(n+1)]\n",
    "    return calculate_rabbits(n, k, nb_rabbits)\n",
    "\n",
    "def calculate_rabbits(n, k, nb_rabbits):\n",
    "    if n < 3:\n",
    "        nb_rabbits[n] = 1\n",
    "    else:\n",
    "        nb_rabbits[n] = calculate_rabbits(n-1, k, nb_rabbits) + k * calculate_rabbits(n-2, k, nb_rabbits)\n",
    "    return nb_rabbits[n]"
   ]
  },
  {
   "cell_type": "code",
   "execution_count": 262,
   "id": "ba38b27f-c4a4-41c7-8b86-eb1ea0b6af80",
   "metadata": {},
   "outputs": [
    {
     "data": {
      "text/plain": [
       "19"
      ]
     },
     "execution_count": 262,
     "metadata": {},
     "output_type": "execute_result"
    }
   ],
   "source": [
    "return_rabbits(5, 3)"
   ]
  },
  {
   "cell_type": "markdown",
   "id": "bf9e29bc-9344-4bff-86e0-dc807fef405c",
   "metadata": {},
   "source": [
    "# GC: Computing GC Content"
   ]
  },
  {
   "cell_type": "code",
   "execution_count": 263,
   "id": "95c9c282-b0aa-453f-8419-dddd8eb9d9ea",
   "metadata": {
    "tags": []
   },
   "outputs": [],
   "source": [
    "def compute_GC_content(fasta):\n",
    "    nb_C = 0\n",
    "    nb_G = 0\n",
    "    nb = 0\n",
    "    name = None\n",
    "    seqs = {}\n",
    "    with open(fasta, 'r') as f:\n",
    "        for line in f.readlines():\n",
    "            if line[0] == '>':\n",
    "                if name != None:\n",
    "                    seqs[name] = (nb_C + nb_G) / nb\n",
    "                    nb_C = 0\n",
    "                    nb_G = 0\n",
    "                    nb = 0\n",
    "                name = line.strip()[1:]\n",
    "            else:\n",
    "                nb_C += line.count('C')\n",
    "                nb_G += line.count('G')\n",
    "                nb += len(line.strip())\n",
    "    seqs[name] = (nb_C + nb_G) / nb\n",
    "    return seqs\n",
    "\n",
    "def find_max_GC_content(seqs):\n",
    "    for seq in seqs:\n",
    "        if seqs[seq] == max(seqs.values()):\n",
    "            return seq, seqs[seq]*100\n",
    "        \n",
    "                "
   ]
  },
  {
   "cell_type": "code",
   "execution_count": 264,
   "id": "69f0adab-75da-4f23-b34d-53f871abdcff",
   "metadata": {},
   "outputs": [
    {
     "name": "stdout",
     "output_type": "stream",
     "text": [
      "Rosalind_6476\n",
      "51.86335403726709\n"
     ]
    }
   ],
   "source": [
    "seqs = compute_GC_content(\"data/GC.txt\")\n",
    "highest_GC = find_max_GC_content(seqs)\n",
    "print(f\"{highest_GC[0]}\\n{highest_GC[1]}\")"
   ]
  },
  {
   "cell_type": "markdown",
   "id": "14fa9e2a-76c0-4f1a-a88c-24df734e4c92",
   "metadata": {},
   "source": [
    "# IPRB: Mendel's First Law"
   ]
  },
  {
   "cell_type": "code",
   "execution_count": 265,
   "id": "24e59a21-4f3c-4b36-b8ad-dda11f508a41",
   "metadata": {},
   "outputs": [],
   "source": [
    "def calculate_dominant_proba(k, m, n):\n",
    "    sum = k + m + n\n",
    "    AA = k/sum * ((k-1)/(sum-1) + m/(sum-1) + n/(sum-1))\n",
    "    Aa = m/sum * (0.75*(m-1)/(sum-1) + k/(sum-1) + 0.5*n/(sum-1))\n",
    "    aa = n/sum * (0*(n-1)/(sum-1) + 0.5*m/(sum-1) + k/(sum-1))\n",
    "    return AA+Aa+aa"
   ]
  },
  {
   "cell_type": "code",
   "execution_count": 266,
   "id": "05114026-d087-4a72-ab4e-838aedf1c0bf",
   "metadata": {},
   "outputs": [
    {
     "data": {
      "text/plain": [
       "0.7903025793650793"
      ]
     },
     "execution_count": 266,
     "metadata": {},
     "output_type": "execute_result"
    }
   ],
   "source": [
    "calculate_dominant_proba(25,19,20)"
   ]
  },
  {
   "cell_type": "markdown",
   "id": "06e22608-7221-4e76-a078-3aa527f7f43f",
   "metadata": {},
   "source": [
    "# FIBD: Mortal Fibonacci Rabbits"
   ]
  },
  {
   "cell_type": "code",
   "execution_count": 440,
   "id": "322381bf-7119-4494-80a2-de4b268ebc99",
   "metadata": {},
   "outputs": [],
   "source": [
    "def return_rabbits(n, m):\n",
    "    nb_rabbits = ['' for i in range(n+1)]\n",
    "    return calculate_rabbits(n, m, nb_rabbits)\n",
    "\n",
    "def calculate_rabbits(n, m, nb_rabbits):\n",
    "    if n < 3:\n",
    "        nb_rabbits[n] = 1\n",
    "    if nb_rabbits[n] != '':\n",
    "        return nb_rabbits[n]\n",
    "    if n >= 3 and n < m + 1:\n",
    "        nb_rabbits[n] = calculate_rabbits(n-1, m, nb_rabbits) + calculate_rabbits(n-2, m, nb_rabbits)\n",
    "    else:\n",
    "        nb_rabbits[n] = calculate_rabbits(n-1, m, nb_rabbits) + calculate_rabbits(n-2, m, nb_rabbits) - calculate_rabbits(n-m-1, m, nb_rabbits)\n",
    "    return nb_rabbits[n]"
   ]
  },
  {
   "cell_type": "code",
   "execution_count": 441,
   "id": "887ec83b-82a1-4c84-9417-3186c77849ed",
   "metadata": {},
   "outputs": [
    {
     "data": {
      "text/plain": [
       "258854078921095007"
      ]
     },
     "execution_count": 441,
     "metadata": {},
     "output_type": "execute_result"
    }
   ],
   "source": [
    "return_rabbits(85, 19)"
   ]
  },
  {
   "cell_type": "markdown",
   "id": "bcb5b692-9d89-4c15-a060-0075871e561b",
   "metadata": {},
   "source": [
    "# CONS: Consensus and Profile"
   ]
  },
  {
   "cell_type": "code",
   "execution_count": 269,
   "id": "068709b8-172a-48c3-a28c-224bf2c5ef1b",
   "metadata": {},
   "outputs": [],
   "source": [
    "def fill_dna_matrix(fasta):\n",
    "    dna_matrix = []\n",
    "    seq = ''\n",
    "    with open(fasta, 'r') as f:\n",
    "        for line in f.readlines():\n",
    "            if line[0] != '>':\n",
    "                seq += line.strip()\n",
    "            else:\n",
    "                dna_matrix.append(seq)\n",
    "                seq = ''\n",
    "    dna_matrix.append(seq)\n",
    "    dna_matrix.remove('')\n",
    "    return dna_matrix\n",
    "\n",
    "def fill_profile_matrix(dna_matrix):\n",
    "    profile_matrix = {'A': [], 'C': [], 'G': [], 'T': []}\n",
    "    for j in range(len(dna_matrix[0])):\n",
    "        temp = ''\n",
    "        for seq in dna_matrix:\n",
    "            temp += seq[j]\n",
    "        for key in profile_matrix:\n",
    "            profile_matrix[key].append(temp.count(key))\n",
    "    return profile_matrix\n",
    "\n",
    "def find_consensus(profile_matrix):\n",
    "    consensus = ''\n",
    "    for j in range(len(profile_matrix['A'])):\n",
    "        max = 0\n",
    "        for key in profile_matrix:\n",
    "            if profile_matrix[key][j] > max:\n",
    "                max = profile_matrix[key][j]\n",
    "                cons = key\n",
    "        consensus += cons\n",
    "    return consensus\n",
    "    "
   ]
  },
  {
   "cell_type": "code",
   "execution_count": 270,
   "id": "6741e171-4d0a-4d33-9acf-9f577440bf0e",
   "metadata": {},
   "outputs": [
    {
     "name": "stdout",
     "output_type": "stream",
     "text": [
      "ATGCAACT\n",
      "A: 5 1 0 0 5 5 0 0 \n",
      "C: 0 0 1 4 2 0 6 1 \n",
      "G: 1 1 6 3 0 1 0 0 \n",
      "T: 1 5 0 0 0 1 1 6 \n"
     ]
    }
   ],
   "source": [
    "dna_matrix = fill_dna_matrix(\"data/CONS.txt\")\n",
    "profile_matrix = fill_profile_matrix(dna_matrix)\n",
    "print(find_consensus(profile_matrix))\n",
    "for key in profile_matrix:\n",
    "    print(f\"{key}: \", end='')\n",
    "    for j in profile_matrix[key]:\n",
    "        print(f\"{j} \", end='')\n",
    "    print()"
   ]
  },
  {
   "cell_type": "markdown",
   "id": "864495e6-2aa7-49b2-aa81-e1bc0cb29463",
   "metadata": {},
   "source": [
    "# IEV: Calculating Expected Offspring "
   ]
  },
  {
   "cell_type": "code",
   "execution_count": 271,
   "id": "2715b58a-0e8e-48dd-adab-4be133099556",
   "metadata": {},
   "outputs": [],
   "source": [
    "def calculate_ex_offspring(string):\n",
    "    genotypes = string.strip().split(' ')\n",
    "    sum = 0\n",
    "    coeff = [2, 2, 2, 1.5, 1, 0]\n",
    "    for i in range(len(genotypes)):\n",
    "        sum += int(genotypes[i])*coeff[i]\n",
    "    return sum"
   ]
  },
  {
   "cell_type": "code",
   "execution_count": 272,
   "id": "14437cdb-a63e-449a-aae9-b6a89bc9232d",
   "metadata": {},
   "outputs": [
    {
     "data": {
      "text/plain": [
       "152034.0"
      ]
     },
     "execution_count": 272,
     "metadata": {},
     "output_type": "execute_result"
    }
   ],
   "source": [
    "calculate_ex_offspring('17048 17267 19456 18954 16061 16341')"
   ]
  },
  {
   "cell_type": "markdown",
   "id": "fbb01832-c3df-420f-8e51-25c642ba4db2",
   "metadata": {},
   "source": [
    "# GRPH: Overlap Graphs\n"
   ]
  },
  {
   "cell_type": "code",
   "execution_count": 321,
   "id": "cdc58c1d-a070-4e21-b2c5-b25a79c3dc41",
   "metadata": {},
   "outputs": [],
   "source": [
    "def get_seqs_from_fasta(fasta):\n",
    "    seqs = {}\n",
    "    name = ''\n",
    "    seq = ''\n",
    "    with open(fasta, 'r') as f:\n",
    "        for line in f.readlines():\n",
    "            if line[0] == '>':\n",
    "                seqs[name] = seq\n",
    "                name = line[1:-1]\n",
    "                seq = ''\n",
    "            else:\n",
    "                seq += line.strip()\n",
    "    seqs[name] = seq\n",
    "    del seqs['']\n",
    "    return seqs\n",
    "\n",
    "def find_overlaping_graph(seqs, k=3):\n",
    "    for first_name in seqs:    \n",
    "        for second_name in seqs:\n",
    "            if first_name != second_name and seqs[first_name][-k:] == seqs[second_name][:k]:\n",
    "                print(first_name, second_name)"
   ]
  },
  {
   "cell_type": "code",
   "execution_count": 317,
   "id": "a79be9ad-56f2-4407-9599-d53275280bea",
   "metadata": {},
   "outputs": [
    {
     "name": "stdout",
     "output_type": "stream",
     "text": [
      "Rosalind_0498 Rosalind_2391\n",
      "Rosalind_0498 Rosalind_0442\n",
      "Rosalind_2391 Rosalind_2323\n"
     ]
    }
   ],
   "source": [
    "seqs = get_seqs_from_fasta(\"data/GRPH.txt\")\n",
    "find_overlaping_graph(seqs)"
   ]
  },
  {
   "cell_type": "markdown",
   "id": "ec4ee9ff-53ac-447b-9334-277886384bc8",
   "metadata": {},
   "source": [
    "# ORF: Open Reading Frames"
   ]
  },
  {
   "cell_type": "code",
   "execution_count": 426,
   "id": "069e0f97-66f3-45ff-84d7-d78a633dd612",
   "metadata": {},
   "outputs": [],
   "source": [
    "from Bio.Seq import Seq\n",
    "\n",
    "def get_seq_from_fasta(fasta):\n",
    "    seq = ''\n",
    "    with open(fasta, 'r') as f:\n",
    "        for line in f.readlines():\n",
    "            if line[0] != '>':\n",
    "                seq += line.strip()\n",
    "    return seq\n",
    "\n",
    "def find_orf(seq):\n",
    "    start_pos = seq.find('ATG')\n",
    "    protein = []\n",
    "    for i in range(seq.count('ATG')):\n",
    "        orf = str((Seq(seq[start_pos:]).translate()))\n",
    "        stop = orf.find('*')\n",
    "        if stop != -1:\n",
    "            protein.append(orf[:stop])\n",
    "        start_pos = seq.find('ATG', start_pos + 1, -1)\n",
    "    return protein\n",
    "        "
   ]
  },
  {
   "cell_type": "code",
   "execution_count": 430,
   "id": "b70aec0e-8d6c-4c7e-8b8d-e335d1eca083",
   "metadata": {},
   "outputs": [
    {
     "name": "stdout",
     "output_type": "stream",
     "text": [
      "MLLGSFRLIPKETLIQVAGSSPCNLS\n",
      "M\n",
      "MTPRLGLESLLE\n",
      "MGMTPRLGLESLLE\n"
     ]
    }
   ],
   "source": [
    "seq = Seq(get_seq_from_fasta(\"data/ORF.txt\"))\n",
    "\n",
    "proteins = set([i for i in (find_orf(seq) + find_orf(seq.reverse_complement()))])\n",
    "\n",
    "for prot in proteins:\n",
    "    print(prot)"
   ]
  },
  {
   "cell_type": "markdown",
   "id": "075b7839-28c4-42de-94d8-fbe8ccc284b1",
   "metadata": {},
   "source": [
    "# REVP: Locating Restriction Sites"
   ]
  },
  {
   "cell_type": "code",
   "execution_count": 447,
   "id": "140722cc-3e66-49b4-8df0-690480476fec",
   "metadata": {},
   "outputs": [],
   "source": [
    "from Bio.Seq import Seq\n",
    "\n",
    "def get_seq_from_fasta(fasta):\n",
    "    seq = ''\n",
    "    with open(fasta, 'r') as f:\n",
    "        for line in f.readlines():\n",
    "            if line[0] != '>':\n",
    "                seq += line.strip()\n",
    "    return seq\n",
    "\n",
    "def find_refp(seq):\n",
    "    for lim_length in range(4, 13):\n",
    "        for start_pos in range(len(seq)):\n",
    "            if Seq(seq[start_pos:start_pos+lim_length]).reverse_complement() == Seq(seq[start_pos:start_pos+lim_length]) and start_pos+lim_length <= len(seq):\n",
    "                print(start_pos+1, lim_length)"
   ]
  },
  {
   "cell_type": "code",
   "execution_count": 451,
   "id": "00e972c6-629c-4800-9096-cf9c049dd802",
   "metadata": {},
   "outputs": [
    {
     "name": "stdout",
     "output_type": "stream",
     "text": [
      "5 4\n",
      "7 4\n",
      "17 4\n",
      "18 4\n",
      "21 4\n",
      "4 6\n",
      "6 6\n",
      "20 6\n"
     ]
    }
   ],
   "source": [
    "seq = get_seq_from_fasta(\"data/REVP.txt\")\n",
    "find_refp(seq)"
   ]
  },
  {
   "cell_type": "code",
   "execution_count": null,
   "id": "866841e2-a994-4ddc-a313-598682b3adbb",
   "metadata": {},
   "outputs": [],
   "source": []
  }
 ],
 "metadata": {
  "kernelspec": {
   "display_name": "Python 3 (ipykernel)",
   "language": "python",
   "name": "python3"
  },
  "language_info": {
   "codemirror_mode": {
    "name": "ipython",
    "version": 3
   },
   "file_extension": ".py",
   "mimetype": "text/x-python",
   "name": "python",
   "nbconvert_exporter": "python",
   "pygments_lexer": "ipython3",
   "version": "3.9.13"
  }
 },
 "nbformat": 4,
 "nbformat_minor": 5
}
